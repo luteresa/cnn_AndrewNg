{
 "cells": [
  {
   "cell_type": "markdown",
   "metadata": {},
   "source": [
    "# 1.边缘检测\n",
    "\n",
    "常见的都有垂直方向，水平方向边缘检测，sobel算子"
   ]
  },
  {
   "cell_type": "markdown",
   "metadata": {},
   "source": [
    "假如把滤波器的参数，用数据自动训练，就可以得到检测任意边缘检测的滤波器"
   ]
  },
  {
   "cell_type": "markdown",
   "metadata": {},
   "source": [
    "# 2.Padding"
   ]
  },
  {
   "cell_type": "markdown",
   "metadata": {},
   "source": [
    "卷积计算的缺点：\n",
    "\n",
    "1.丢失边缘信息：每次做卷积运算，图像就会变小，丢弃边缘信息；\n",
    "\n",
    "2.角落边的像素，只会计算一次，而图中间的像素，会被卷积计算多次，意味着丢失了边缘许多信息；\n",
    "\n",
    "![](./pad01.jpg)"
   ]
  },
  {
   "cell_type": "markdown",
   "metadata": {},
   "source": [
    "未解决这个问题，在做卷积之前，对图像先做填充\n",
    "\n",
    "![](./pad02.jpg)"
   ]
  },
  {
   "cell_type": "markdown",
   "metadata": {},
   "source": [
    "输出变成(n+2p-f+1)*(n+2p-f+1)"
   ]
  },
  {
   "cell_type": "markdown",
   "metadata": {},
   "source": [
    "这样，角落边缘信息丢失，这个问题影响就削弱了。"
   ]
  },
  {
   "cell_type": "markdown",
   "metadata": {},
   "source": [
    "至于填充多少像素，一般有两种，分别叫Valid卷积和Same卷积；\n",
    "\n",
    "Valid卷积：不填充；\n",
    "\n",
    "Same卷积：填充后，输出大小和输入大小是一样的；\n",
    "\n",
    "![](./pad03.jpg)"
   ]
  },
  {
   "cell_type": "markdown",
   "metadata": {},
   "source": [
    "在计算机视觉中，f一般取奇数;可能原因有\n",
    "\n",
    "原因1：如果去偶数，那只能使用一些不对称的填充；\n",
    "\n",
    "原因2：奇数维度的卷积，有一个中心点，有时在计算机视觉里，有一个中心像素点会更方便，容易指出卷积位置；"
   ]
  },
  {
   "cell_type": "markdown",
   "metadata": {},
   "source": [
    "# 3.步长stride\n",
    "\n",
    "当一个nxn图片，与一个fxf滤波器，做卷积时，其输出尺寸计算如下（向下取整）：\n",
    "\n",
    "![](./pad04.jpg)"
   ]
  },
  {
   "cell_type": "markdown",
   "metadata": {},
   "source": [
    "互相关：将滤波器参数翻转，即按水平，垂直方向做镜像\n",
    "\n",
    "![](./pad05.jpg)\n",
    "\n",
    "得到新的滤波器，数学家将这叫做互相关；\n",
    "\n",
    "而在机器学习中，一般统称为卷积，将滤波器参数的翻转视为卷积的性质"
   ]
  },
  {
   "cell_type": "markdown",
   "metadata": {},
   "source": [
    "对于信号处理来说，这个性质很重要；但是对深度学习来说，这个不重要，因此省略绿这个双重镜像操作；"
   ]
  },
  {
   "cell_type": "markdown",
   "metadata": {},
   "source": [
    "## 多为卷积核"
   ]
  },
  {
   "cell_type": "markdown",
   "metadata": {},
   "source": [
    "![](./pad06.jpg)"
   ]
  },
  {
   "cell_type": "markdown",
   "metadata": {},
   "source": [
    "注：可以独立设置每个通道滤波器参数；比如只关注R通道边缘检测..."
   ]
  },
  {
   "cell_type": "markdown",
   "metadata": {},
   "source": [
    "# 卷积神经网络示例"
   ]
  },
  {
   "cell_type": "markdown",
   "metadata": {},
   "source": [
    "![](./pad07.jpg)"
   ]
  },
  {
   "cell_type": "code",
   "execution_count": null,
   "metadata": {},
   "outputs": [],
   "source": []
  }
 ],
 "metadata": {
  "kernelspec": {
   "display_name": "Python 3",
   "language": "python",
   "name": "python3"
  },
  "language_info": {
   "codemirror_mode": {
    "name": "ipython",
    "version": 3
   },
   "file_extension": ".py",
   "mimetype": "text/x-python",
   "name": "python",
   "nbconvert_exporter": "python",
   "pygments_lexer": "ipython3",
   "version": "3.7.7"
  }
 },
 "nbformat": 4,
 "nbformat_minor": 4
}
