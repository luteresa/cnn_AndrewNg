{
 "cells": [
  {
   "cell_type": "markdown",
   "metadata": {},
   "source": [
    "计算机视觉研究中的大量研究，都集中在如何把卷积层，池化层，全连接层这些基本构件组合起来，形成有效的卷积神经网络；\n",
    "\n",
    "找感觉的最好方法之一，就是去看一些案例，就像学习编程一样，通过研究别人构建有效组件的案例，是个不错的方法；\n",
    "\n",
    "实际上，在计算机视觉任务中表现良好的神经网络框架，往往也适用于其它任务。\n",
    "\n",
    "一些经典的神经网络架构范例，当中的一些思路为现代计算机视觉技术的发展奠定了基础。"
   ]
  },
  {
   "cell_type": "markdown",
   "metadata": {},
   "source": [
    "经典网络：\n",
    "\n",
    "LeNet-5：\n",
    "\n",
    "AlexNet\n",
    "\n",
    "VGG\n",
    "\n",
    "ResNet：152层\n"
   ]
  },
  {
   "cell_type": "markdown",
   "metadata": {},
   "source": [
    "# 1.LeNet-5\n",
    "\n",
    "paper:http://yann.lecun.com/exdb/publis/pdf/lecun-98.pdf"
   ]
  },
  {
   "cell_type": "markdown",
   "metadata": {},
   "source": [
    "![](./LeNet01.jpg)"
   ]
  },
  {
   "cell_type": "markdown",
   "metadata": {},
   "source": [
    "注：大约6万参数\n",
    "\n",
    "1.该网络诞生的年代(1980年代)，流行用平均池化，现在更常用的是最大池化；\n",
    "\n",
    "2.当时并不使用padding；\n",
    "\n",
    "3.现代版本，最后输出用softmax；\n",
    "\n",
    "总的来说：\n",
    "\n",
    "从左到右，随着网络越来越深，图像的宽高在减少，而信道数量在增加；\n",
    "\n",
    "网络模式，**一个或多个卷积层后面跟着一个池化层，然后又是若干个卷积层，再接一个池化层，然后是全连接层，最后是输出**，\n",
    "这种排列方式很常用。\n",
    "\n",
    "如果打算阅读经典论文：\n",
    "\n",
    "读这篇经典论文，你会发现过去认识使用sigmoid函数和tanh函数，而不是ReLu函数；这种网络特别之处在于，各网络层之间是有关联的；\n",
    "\n",
    "建议精度第二，泛读第三段"
   ]
  },
  {
   "cell_type": "markdown",
   "metadata": {},
   "source": [
    "# 2. AlexNet\n",
    "\n",
    "https://papers.nips.cc/paper/4824-imagenet-classification-with-deep-convolutional-neural-networks.pdf"
   ]
  },
  {
   "cell_type": "markdown",
   "metadata": {},
   "source": [
    "![](./AlexNet01.jpg)"
   ]
  },
  {
   "cell_type": "markdown",
   "metadata": {},
   "source": [
    "注：大约6000万参数\n",
    "\n",
    "1.原文是224x224,但实际227x227更好一些；\n",
    "\n",
    "2.AlexNet实际上跟LeNet有很多相似之处，不过AlexNet要大得多；它性能优于LeNet主要原因有：\n",
    "\n",
    "a.含有大量隐藏单元；\n",
    "\n",
    "b.使用了ReLu激活单元；\n",
    "\n",
    "3.写这篇论文时，GPU还很慢，所以AlexNet采用了非常复杂的方法在2个GPU上训练，\n",
    "\n",
    "大致原理是这些层被分拆到2个GPU中运行，还专门设计一个方法用于两个GPU的通信；\n",
    "\n",
    "经典的AlexNet网络，还有另一种类型的层，“局部响应归一化层”，即LRN层；这类层应用的并不多，现在基本放弃；\n",
    "\n",
    "了解下深度学习历史，在AlexNet之前，深度学习已经在语音识别和其他领域获得关注，但正是通过这篇论文，计算机视觉领域\n",
    "开始重视深度学习，并确信深度学习可以应用于计算机视觉领域。此后，深度学习在计算机视觉和其他领域影响力与日俱增。\n",
    "\n",
    "AlexNet网络看起来相对复杂，包含大量超参数，是比较好理解的适合阅读的一篇paper."
   ]
  },
  {
   "cell_type": "markdown",
   "metadata": {},
   "source": [
    "# 3.VGG-16\n",
    "\n",
    "https://arxiv.org/pdf/1409.1556.pdf"
   ]
  },
  {
   "cell_type": "markdown",
   "metadata": {},
   "source": [
    "![](./VGG_16_01.jpg)"
   ]
  },
  {
   "cell_type": "markdown",
   "metadata": {},
   "source": [
    "VGG网络没那么多超参数，这是一种只需要专注于构建卷积层的简单网络，\n",
    "\n",
    "包含1.38亿个参数，即使现在看也是非常庞大的网络，但是其结构并不复杂，这点很吸引人，并且这种网络结构很规整，\n",
    "都是几个卷积层后面跟着可以压缩的池化层，同时卷积层的过滤器数量变化存在一定的规律。\n",
    "\n",
    "正是这种设计网络结构的简单规则，相对一致的网路结构对研究者很有吸引力。\n",
    "\n",
    "它的主要缺点，需要训练的特征数量非常巨大。\n",
    "\n",
    "有些文章还介绍了VGG-19,它比VGG-16还大，由于VGG-16和VGG-19表现几乎不分高下，所以很多人还是会使用VGG-16;\n",
    "\n",
    "另一点，**随着网络的加深，图像的高度和宽度都在以一定规律缩小，而信道在不断增加。且这个变化是有规律的**。从这点看，这篇论文很吸引人。"
   ]
  },
  {
   "cell_type": "markdown",
   "metadata": {},
   "source": [
    "阅读论文，建议从AlexNet开始，VGG, LeNet-5,虽然有些难懂，但对于了解这些网络结构很有帮助"
   ]
  },
  {
   "cell_type": "markdown",
   "metadata": {},
   "source": []
  },
  {
   "cell_type": "markdown",
   "metadata": {},
   "source": []
  },
  {
   "cell_type": "markdown",
   "metadata": {},
   "source": []
  },
  {
   "cell_type": "markdown",
   "metadata": {},
   "source": []
  },
  {
   "cell_type": "markdown",
   "metadata": {},
   "source": []
  },
  {
   "cell_type": "markdown",
   "metadata": {},
   "source": [
    "\n",
    "\n"
   ]
  },
  {
   "cell_type": "markdown",
   "metadata": {},
   "source": []
  },
  {
   "cell_type": "markdown",
   "metadata": {},
   "source": []
  }
 ],
 "metadata": {
  "kernelspec": {
   "display_name": "Python 3",
   "language": "python",
   "name": "python3"
  },
  "language_info": {
   "codemirror_mode": {
    "name": "ipython",
    "version": 3
   },
   "file_extension": ".py",
   "mimetype": "text/x-python",
   "name": "python",
   "nbconvert_exporter": "python",
   "pygments_lexer": "ipython3",
   "version": "3.7.7"
  }
 },
 "nbformat": 4,
 "nbformat_minor": 4
}
