{
 "cells": [
  {
   "cell_type": "markdown",
   "metadata": {},
   "source": [
    "1.mirroring镜像；\n",
    "\n",
    "2.Random Cropping随机裁剪；\n",
    "\n",
    "2.Rotation旋转\n",
    "\n",
    "Shearing 剪切\n",
    "\n",
    "Local warping局部扭曲\n",
    "\n",
    "2.Color shifting色彩转换"
   ]
  },
  {
   "cell_type": "markdown",
   "metadata": {},
   "source": []
  },
  {
   "cell_type": "code",
   "execution_count": null,
   "metadata": {},
   "outputs": [],
   "source": [
    "使用更多的蓝色，仅仅多了一点红色，在实践中，是根据某种概率分布来决定的，这么做理由是阳光或灯光可能会有一点偏黄。\n",
    "\n"
   ]
  }
 ],
 "metadata": {
  "kernelspec": {
   "display_name": "Python 3",
   "language": "python",
   "name": "python3"
  },
  "language_info": {
   "codemirror_mode": {
    "name": "ipython",
    "version": 3
   },
   "file_extension": ".py",
   "mimetype": "text/x-python",
   "name": "python",
   "nbconvert_exporter": "python",
   "pygments_lexer": "ipython3",
   "version": "3.7.7"
  }
 },
 "nbformat": 4,
 "nbformat_minor": 4
}
